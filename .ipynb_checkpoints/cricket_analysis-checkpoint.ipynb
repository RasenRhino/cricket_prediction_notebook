{
 "cells": [
  {
   "cell_type": "code",
   "execution_count": 2,
   "metadata": {},
   "outputs": [],
   "source": [
    "import pandas as pd\n",
    "from collections import Counter\n",
    "from sklearn.model_selection import train_test_split\n",
    "from sklearn.metrics import accuracy_score\n",
    "from sklearn.ensemble import RandomForestClassifier\n",
    "import numpy as np\n",
    "from dateutil import parser"
   ]
  },
  {
   "cell_type": "code",
   "execution_count": 4,
   "metadata": {},
   "outputs": [],
   "source": [
    "dataset=pd.read_csv('ipl.csv',index_col=0)"
   ]
  },
  {
   "cell_type": "code",
   "execution_count": 5,
   "metadata": {},
   "outputs": [
    {
     "data": {
      "text/html": [
       "<div>\n",
       "<style scoped>\n",
       "    .dataframe tbody tr th:only-of-type {\n",
       "        vertical-align: middle;\n",
       "    }\n",
       "\n",
       "    .dataframe tbody tr th {\n",
       "        vertical-align: top;\n",
       "    }\n",
       "\n",
       "    .dataframe thead th {\n",
       "        text-align: right;\n",
       "    }\n",
       "</style>\n",
       "<table border=\"1\" class=\"dataframe\">\n",
       "  <thead>\n",
       "    <tr style=\"text-align: right;\">\n",
       "      <th></th>\n",
       "      <th>city</th>\n",
       "      <th>date</th>\n",
       "      <th>gender</th>\n",
       "      <th>match_type</th>\n",
       "      <th>player of the match</th>\n",
       "      <th>team 1</th>\n",
       "      <th>team 2</th>\n",
       "      <th>team_1_batting_average</th>\n",
       "      <th>team_1_bowling_average</th>\n",
       "      <th>team_2_batting_average</th>\n",
       "      <th>team_2_bowling_average</th>\n",
       "      <th>toss_decision</th>\n",
       "      <th>toss_winner</th>\n",
       "      <th>umpire_1</th>\n",
       "      <th>umpire_2</th>\n",
       "      <th>venue</th>\n",
       "      <th>win_by_runs</th>\n",
       "      <th>win_by_wickets</th>\n",
       "      <th>winner</th>\n",
       "    </tr>\n",
       "  </thead>\n",
       "  <tbody>\n",
       "    <tr>\n",
       "      <th>0</th>\n",
       "      <td>Bangalore</td>\n",
       "      <td>2008-04-18</td>\n",
       "      <td>male</td>\n",
       "      <td>T20</td>\n",
       "      <td>BB McCullum</td>\n",
       "      <td>Kolkata Knight Riders</td>\n",
       "      <td>Royal Challengers Bangalore</td>\n",
       "      <td>5.0</td>\n",
       "      <td>5.0</td>\n",
       "      <td>3.0</td>\n",
       "      <td>12.0</td>\n",
       "      <td>field</td>\n",
       "      <td>Royal Challengers Bangalore</td>\n",
       "      <td>Asad Rauf</td>\n",
       "      <td>RE Koertzen</td>\n",
       "      <td>M Chinnaswamy Stadium</td>\n",
       "      <td>140</td>\n",
       "      <td>0</td>\n",
       "      <td>Kolkata Knight Riders</td>\n",
       "    </tr>\n",
       "    <tr>\n",
       "      <th>1</th>\n",
       "      <td>Chandigarh</td>\n",
       "      <td>2008-04-19</td>\n",
       "      <td>male</td>\n",
       "      <td>T20</td>\n",
       "      <td>MEK Hussey</td>\n",
       "      <td>Chennai Super Kings</td>\n",
       "      <td>Kings XI Punjab</td>\n",
       "      <td>5.0</td>\n",
       "      <td>54.0</td>\n",
       "      <td>5.0</td>\n",
       "      <td>47.0</td>\n",
       "      <td>bat</td>\n",
       "      <td>Chennai Super Kings</td>\n",
       "      <td>MR Benson</td>\n",
       "      <td>SL Shastri</td>\n",
       "      <td>Punjab Cricket Association Stadium, Mohali</td>\n",
       "      <td>33</td>\n",
       "      <td>0</td>\n",
       "      <td>Chennai Super Kings</td>\n",
       "    </tr>\n",
       "  </tbody>\n",
       "</table>\n",
       "</div>"
      ],
      "text/plain": [
       "         city        date gender match_type player of the match  \\\n",
       "0   Bangalore  2008-04-18   male        T20         BB McCullum   \n",
       "1  Chandigarh  2008-04-19   male        T20          MEK Hussey   \n",
       "\n",
       "                  team 1                       team 2  team_1_batting_average  \\\n",
       "0  Kolkata Knight Riders  Royal Challengers Bangalore                     5.0   \n",
       "1    Chennai Super Kings              Kings XI Punjab                     5.0   \n",
       "\n",
       "   team_1_bowling_average  team_2_batting_average  team_2_bowling_average  \\\n",
       "0                     5.0                     3.0                    12.0   \n",
       "1                    54.0                     5.0                    47.0   \n",
       "\n",
       "  toss_decision                  toss_winner   umpire_1     umpire_2  \\\n",
       "0         field  Royal Challengers Bangalore  Asad Rauf  RE Koertzen   \n",
       "1           bat          Chennai Super Kings  MR Benson   SL Shastri   \n",
       "\n",
       "                                        venue  win_by_runs  win_by_wickets  \\\n",
       "0                       M Chinnaswamy Stadium          140               0   \n",
       "1  Punjab Cricket Association Stadium, Mohali           33               0   \n",
       "\n",
       "                  winner  \n",
       "0  Kolkata Knight Riders  \n",
       "1    Chennai Super Kings  "
      ]
     },
     "execution_count": 5,
     "metadata": {},
     "output_type": "execute_result"
    }
   ],
   "source": [
    "dataset.head(2)"
   ]
  },
  {
   "cell_type": "code",
   "execution_count": 6,
   "metadata": {},
   "outputs": [
    {
     "data": {
      "text/plain": [
       "Index(['city', 'date', 'gender', 'match_type', 'player of the match', 'team 1',\n",
       "       'team 2', 'team_1_batting_average', 'team_1_bowling_average',\n",
       "       'team_2_batting_average', 'team_2_bowling_average', 'toss_decision',\n",
       "       'toss_winner', 'umpire_1', 'umpire_2', 'venue', 'win_by_runs',\n",
       "       'win_by_wickets', 'winner'],\n",
       "      dtype='object')"
      ]
     },
     "execution_count": 6,
     "metadata": {},
     "output_type": "execute_result"
    }
   ],
   "source": [
    "dataset.columns"
   ]
  },
  {
   "cell_type": "code",
   "execution_count": 7,
   "metadata": {},
   "outputs": [
    {
     "data": {
      "text/plain": [
       "Counter({'Kolkata Knight Riders': 77,\n",
       "         'Chennai Super Kings': 79,\n",
       "         'Delhi Daredevils': 62,\n",
       "         'Royal Challengers Bangalore': 72,\n",
       "         'Rajasthan Royals': 61,\n",
       "         'Kings XI Punjab': 68,\n",
       "         'Deccan Chargers': 29,\n",
       "         'Mumbai Indians': 91,\n",
       "         'tie': 7,\n",
       "         'Pune Warriors': 12,\n",
       "         'Kochi Tuskers Kerala': 6,\n",
       "         'Sunrisers Hyderabad': 41,\n",
       "         'no result': 1,\n",
       "         'Rising Pune Supergiants': 5,\n",
       "         'Gujarat Lions': 13,\n",
       "         'Rising Pune Supergiant': 10})"
      ]
     },
     "execution_count": 7,
     "metadata": {},
     "output_type": "execute_result"
    }
   ],
   "source": [
    "count=Counter(dataset.winner)\n",
    "count"
   ]
  },
  {
   "cell_type": "markdown",
   "metadata": {},
   "source": [
    "removing tie and no result entries"
   ]
  },
  {
   "cell_type": "code",
   "execution_count": 8,
   "metadata": {},
   "outputs": [],
   "source": [
    "dataset.drop((dataset[dataset.winner=='tie'].index) | (dataset[dataset.winner=='no result'].index),inplace=True)"
   ]
  },
  {
   "cell_type": "code",
   "execution_count": 9,
   "metadata": {},
   "outputs": [
    {
     "name": "stdout",
     "output_type": "stream",
     "text": [
      "Kolkata Knight Riders:140\n",
      "Chennai Super Kings:97\n",
      "Delhi Daredevils:97\n",
      "Royal Challengers Bangalore:144\n",
      "Rajasthan Royals:105\n",
      "Kings XI Punjab:111\n",
      "Deccan Chargers:82\n",
      "Mumbai Indians:146\n",
      "Pune Warriors:38\n",
      "Kochi Tuskers Kerala:17\n",
      "Sunrisers Hyderabad:85\n",
      "Rising Pune Supergiants:34\n",
      "Gujarat Lions:1\n",
      "Rising Pune Supergiant:61\n"
     ]
    }
   ],
   "source": [
    "#finding maximum \"win by runs\" of each team\n",
    "a=dataset.winner.unique()\n",
    "dictteam=dict.fromkeys(a,0) \n",
    "for i in dictteam:\n",
    "    max_runs=dataset[dataset['winner']==i]['win_by_runs'].max()\n",
    "    temp=\"{name}:{val}\"\n",
    "    print(temp.format(name=i,val=str(max_runs)))"
   ]
  },
  {
   "cell_type": "markdown",
   "metadata": {},
   "source": [
    "as can be seen gujrat lions wins by one run max, so lets have a look"
   ]
  },
  {
   "cell_type": "code",
   "execution_count": 10,
   "metadata": {},
   "outputs": [
    {
     "name": "stdout",
     "output_type": "stream",
     "text": [
      "Counter({'field': 11, 'bat': 2})\n"
     ]
    }
   ],
   "source": [
    "#finding the maximum decision taken by the gujarat lions\n",
    "tdecision=Counter(dataset[dataset.winner=='Gujarat Lions']['toss_decision'])\n",
    "print(tdecision)"
   ]
  },
  {
   "cell_type": "markdown",
   "metadata": {},
   "source": [
    "so basically gujarat lions choose to feild first most of the times(quite usual, nothing special)"
   ]
  },
  {
   "cell_type": "code",
   "execution_count": 11,
   "metadata": {},
   "outputs": [],
   "source": [
    "#finding the relation between winning/loosing and toss wins  for gujarat lions\n",
    "loss=dataset[((dataset['team 1']=='Gujarat Lions')|(dataset['team 2']=='Gujarat Lions'))&(dataset.winner!='Gujarat Lions')]['toss_winner']\n",
    "win=dataset[((dataset['team 1']=='Gujarat Lions')|(dataset['team 2']=='Gujarat Lions'))&(dataset.winner=='Gujarat Lions')]['toss_winner']"
   ]
  },
  {
   "cell_type": "code",
   "execution_count": 12,
   "metadata": {},
   "outputs": [
    {
     "data": {
      "text/plain": [
       "Counter({'Gujarat Lions': 10,\n",
       "         'Rising Pune Supergiants': 1,\n",
       "         'Royal Challengers Bangalore': 1,\n",
       "         'Delhi Daredevils': 1})"
      ]
     },
     "execution_count": 12,
     "metadata": {},
     "output_type": "execute_result"
    }
   ],
   "source": [
    "wincount=Counter(win)\n",
    "wincount"
   ]
  },
  {
   "cell_type": "code",
   "execution_count": 13,
   "metadata": {},
   "outputs": [
    {
     "data": {
      "text/plain": [
       "Counter({'Sunrisers Hyderabad': 5,\n",
       "         'Gujarat Lions': 4,\n",
       "         'Delhi Daredevils': 3,\n",
       "         'Royal Challengers Bangalore': 1,\n",
       "         'Kolkata Knight Riders': 1,\n",
       "         'Mumbai Indians': 1,\n",
       "         'Rising Pune Supergiant': 1})"
      ]
     },
     "execution_count": 13,
     "metadata": {},
     "output_type": "execute_result"
    }
   ],
   "source": [
    "losscount=Counter(loss)\n",
    "losscount"
   ]
  },
  {
   "cell_type": "markdown",
   "metadata": {},
   "source": [
    "Now we know this now that if gujarat lions win the toss, they are very likely to win and highly likely to feild What we can assume from here is that toss decision and winning has some significant weight for atleast one team, lets check for other teams"
   ]
  },
  {
   "cell_type": "code",
   "execution_count": 19,
   "metadata": {},
   "outputs": [
    {
     "data": {
      "text/html": [
       "<div>\n",
       "<style scoped>\n",
       "    .dataframe tbody tr th:only-of-type {\n",
       "        vertical-align: middle;\n",
       "    }\n",
       "\n",
       "    .dataframe tbody tr th {\n",
       "        vertical-align: top;\n",
       "    }\n",
       "\n",
       "    .dataframe thead th {\n",
       "        text-align: right;\n",
       "    }\n",
       "</style>\n",
       "<table border=\"1\" class=\"dataframe\">\n",
       "  <thead>\n",
       "    <tr style=\"text-align: right;\">\n",
       "      <th></th>\n",
       "      <th>teamname</th>\n",
       "      <th>game_win_toss_win_count</th>\n",
       "      <th>game_loose_toss_win_count</th>\n",
       "    </tr>\n",
       "  </thead>\n",
       "  <tbody>\n",
       "    <tr>\n",
       "      <th>0</th>\n",
       "      <td>Kolkata Knight Riders</td>\n",
       "      <td>0</td>\n",
       "      <td>0</td>\n",
       "    </tr>\n",
       "    <tr>\n",
       "      <th>1</th>\n",
       "      <td>Chennai Super Kings</td>\n",
       "      <td>0</td>\n",
       "      <td>0</td>\n",
       "    </tr>\n",
       "    <tr>\n",
       "      <th>2</th>\n",
       "      <td>Delhi Daredevils</td>\n",
       "      <td>0</td>\n",
       "      <td>0</td>\n",
       "    </tr>\n",
       "    <tr>\n",
       "      <th>3</th>\n",
       "      <td>Royal Challengers Bangalore</td>\n",
       "      <td>0</td>\n",
       "      <td>0</td>\n",
       "    </tr>\n",
       "    <tr>\n",
       "      <th>4</th>\n",
       "      <td>Rajasthan Royals</td>\n",
       "      <td>0</td>\n",
       "      <td>0</td>\n",
       "    </tr>\n",
       "    <tr>\n",
       "      <th>5</th>\n",
       "      <td>Kings XI Punjab</td>\n",
       "      <td>0</td>\n",
       "      <td>0</td>\n",
       "    </tr>\n",
       "    <tr>\n",
       "      <th>6</th>\n",
       "      <td>Deccan Chargers</td>\n",
       "      <td>0</td>\n",
       "      <td>0</td>\n",
       "    </tr>\n",
       "    <tr>\n",
       "      <th>7</th>\n",
       "      <td>Mumbai Indians</td>\n",
       "      <td>0</td>\n",
       "      <td>0</td>\n",
       "    </tr>\n",
       "    <tr>\n",
       "      <th>8</th>\n",
       "      <td>Pune Warriors</td>\n",
       "      <td>0</td>\n",
       "      <td>0</td>\n",
       "    </tr>\n",
       "    <tr>\n",
       "      <th>9</th>\n",
       "      <td>Kochi Tuskers Kerala</td>\n",
       "      <td>0</td>\n",
       "      <td>0</td>\n",
       "    </tr>\n",
       "    <tr>\n",
       "      <th>10</th>\n",
       "      <td>Sunrisers Hyderabad</td>\n",
       "      <td>0</td>\n",
       "      <td>0</td>\n",
       "    </tr>\n",
       "    <tr>\n",
       "      <th>11</th>\n",
       "      <td>Rising Pune Supergiants</td>\n",
       "      <td>0</td>\n",
       "      <td>0</td>\n",
       "    </tr>\n",
       "    <tr>\n",
       "      <th>12</th>\n",
       "      <td>Gujarat Lions</td>\n",
       "      <td>0</td>\n",
       "      <td>0</td>\n",
       "    </tr>\n",
       "    <tr>\n",
       "      <th>13</th>\n",
       "      <td>Rising Pune Supergiant</td>\n",
       "      <td>0</td>\n",
       "      <td>0</td>\n",
       "    </tr>\n",
       "  </tbody>\n",
       "</table>\n",
       "</div>"
      ],
      "text/plain": [
       "                       teamname  game_win_toss_win_count  \\\n",
       "0         Kolkata Knight Riders                        0   \n",
       "1           Chennai Super Kings                        0   \n",
       "2              Delhi Daredevils                        0   \n",
       "3   Royal Challengers Bangalore                        0   \n",
       "4              Rajasthan Royals                        0   \n",
       "5               Kings XI Punjab                        0   \n",
       "6               Deccan Chargers                        0   \n",
       "7                Mumbai Indians                        0   \n",
       "8                 Pune Warriors                        0   \n",
       "9          Kochi Tuskers Kerala                        0   \n",
       "10          Sunrisers Hyderabad                        0   \n",
       "11      Rising Pune Supergiants                        0   \n",
       "12                Gujarat Lions                        0   \n",
       "13       Rising Pune Supergiant                        0   \n",
       "\n",
       "    game_loose_toss_win_count  \n",
       "0                           0  \n",
       "1                           0  \n",
       "2                           0  \n",
       "3                           0  \n",
       "4                           0  \n",
       "5                           0  \n",
       "6                           0  \n",
       "7                           0  \n",
       "8                           0  \n",
       "9                           0  \n",
       "10                          0  \n",
       "11                          0  \n",
       "12                          0  \n",
       "13                          0  "
      ]
     },
     "execution_count": 19,
     "metadata": {},
     "output_type": "execute_result"
    }
   ],
   "source": [
    "#making a seprate dataset to test the hypothesis  that if a team wins the toss, it's more likely to win\n",
    "teamlist=dataset.winner.unique()\n",
    "team_toss=pd.DataFrame()\n",
    "team_toss['teamname']=teamlist\n",
    "team_toss['game_win_toss_win_count']=0\n",
    "team_toss['game_loose_toss_win_count']=0\n",
    "team_toss"
   ]
  },
  {
   "cell_type": "code",
   "execution_count": 20,
   "metadata": {},
   "outputs": [],
   "source": [
    "#counting toss wins for the decision in the teams favour\n",
    "for i in team_toss.teamname:\n",
    "    ll=dataset[((dataset['team 1']==i)|(dataset['team 2']==i))&(dataset.winner==i)]['toss_winner']\n",
    "    ct=Counter(ll)\n",
    "    team_toss.loc[team_toss.teamname == i, 'game_win_toss_win_count'] = ct[i]"
   ]
  },
  {
   "cell_type": "code",
   "execution_count": 21,
   "metadata": {},
   "outputs": [],
   "source": [
    "#counting toss wins for the decision not in the teams favour\n",
    "for i in team_toss.teamname:\n",
    "    ll=dataset[((dataset['team 1']==i)|(dataset['team 2']==i))&(dataset.winner!=i)]['toss_winner']\n",
    "    ct=Counter(ll)\n",
    "    team_toss.loc[team_toss.teamname == i, 'game_loose_toss_win_count'] = ct[i]\n",
    "\n"
   ]
  },
  {
   "cell_type": "code",
   "execution_count": 22,
   "metadata": {},
   "outputs": [],
   "source": [
    "#creating a seprate column to count\n",
    "team_toss['TF']=team_toss.apply(lambda x: x['game_win_toss_win_count']>=x['game_loose_toss_win_count'],axis=1)"
   ]
  },
  {
   "cell_type": "code",
   "execution_count": 23,
   "metadata": {},
   "outputs": [
    {
     "data": {
      "text/plain": [
       "Counter({True: 8, False: 6})"
      ]
     },
     "execution_count": 23,
     "metadata": {},
     "output_type": "execute_result"
    }
   ],
   "source": [
    "truefalse=Counter(team_toss['TF'])\n",
    "truefalse\n",
    "\n"
   ]
  },
  {
   "cell_type": "markdown",
   "metadata": {},
   "source": [
    "Well, it's not much, but the data is small and it kindof proves the hypothesis to a certain extent that it qualifies as a parameter for predicting the outcome of the match"
   ]
  },
  {
   "cell_type": "code",
   "execution_count": 24,
   "metadata": {},
   "outputs": [
    {
     "data": {
      "text/plain": [
       "city                       True\n",
       "date                      False\n",
       "gender                    False\n",
       "match_type                False\n",
       "player of the match       False\n",
       "team 1                    False\n",
       "team 2                    False\n",
       "team_1_batting_average    False\n",
       "team_1_bowling_average    False\n",
       "team_2_batting_average    False\n",
       "team_2_bowling_average    False\n",
       "toss_decision             False\n",
       "toss_winner               False\n",
       "umpire_1                   True\n",
       "umpire_2                   True\n",
       "venue                     False\n",
       "win_by_runs               False\n",
       "win_by_wickets            False\n",
       "winner                    False\n",
       "dtype: bool"
      ]
     },
     "execution_count": 24,
     "metadata": {},
     "output_type": "execute_result"
    }
   ],
   "source": [
    "dataset.isnull().any()"
   ]
  },
  {
   "cell_type": "code",
   "execution_count": 25,
   "metadata": {},
   "outputs": [],
   "source": [
    "#filling up city values with mode\n",
    "dataset['city'].fillna(dataset['city'].mode()[0], inplace=True)"
   ]
  },
  {
   "cell_type": "code",
   "execution_count": 26,
   "metadata": {},
   "outputs": [],
   "source": [
    "#dropping columns\n",
    "dataset.drop(columns=['gender', 'match_type','umpire_1','umpire_2'],inplace=True)"
   ]
  },
  {
   "cell_type": "code",
   "execution_count": 28,
   "metadata": {},
   "outputs": [
    {
     "data": {
      "text/plain": [
       "0.8067632850241546"
      ]
     },
     "execution_count": 28,
     "metadata": {},
     "output_type": "execute_result"
    }
   ],
   "source": [
    "#ML stuff\n",
    "winner=dataset['winner']\n",
    "features = dataset.drop('winner',axis=1)\n",
    "features = pd.get_dummies(features)\n",
    "X_train, X_test, y_train, y_test = train_test_split(features, winner, test_size=0.33, random_state=42)\n",
    "clf=RandomForestClassifier()\n",
    "clf.fit(X_train,y_train)\n",
    "accuracy_score(y_test,clf.predict(X_test))"
   ]
  },
  {
   "cell_type": "code",
   "execution_count": null,
   "metadata": {},
   "outputs": [],
   "source": []
  }
 ],
 "metadata": {
  "kernelspec": {
   "display_name": "Python 3",
   "language": "python",
   "name": "python3"
  },
  "language_info": {
   "codemirror_mode": {
    "name": "ipython",
    "version": 3
   },
   "file_extension": ".py",
   "mimetype": "text/x-python",
   "name": "python",
   "nbconvert_exporter": "python",
   "pygments_lexer": "ipython3",
   "version": "3.8.3"
  }
 },
 "nbformat": 4,
 "nbformat_minor": 4
}
